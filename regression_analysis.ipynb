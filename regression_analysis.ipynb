{
  "nbformat": 4,
  "nbformat_minor": 0,
  "metadata": {
    "colab": {
      "name": "regression-analysis.ipynb",
      "provenance": [],
      "mount_file_id": "1kF8OXQr1FQd0hcFp_RIABVtr7S_x9B4k",
      "authorship_tag": "ABX9TyPFIIIrde+rQOXqHrxMfb0A",
      "include_colab_link": true
    },
    "kernelspec": {
      "name": "python3",
      "display_name": "Python 3"
    },
    "language_info": {
      "name": "python"
    }
  },
  "cells": [
    {
      "cell_type": "markdown",
      "metadata": {
        "id": "view-in-github",
        "colab_type": "text"
      },
      "source": [
        "<a href=\"https://colab.research.google.com/github/RyuMyunggi/NASA-battery-dataset-eda/blob/main/regression_analysis.ipynb\" target=\"_parent\"><img src=\"https://colab.research.google.com/assets/colab-badge.svg\" alt=\"Open In Colab\"/></a>"
      ]
    },
    {
      "cell_type": "code",
      "metadata": {
        "id": "HLxFGgGmzUkP"
      },
      "source": [
        "# import\n",
        "\n",
        "import datetime\n",
        "import json\n",
        "import numpy as np\n",
        "\n",
        "from google.colab import drive\n"
      ],
      "execution_count": 15,
      "outputs": []
    },
    {
      "cell_type": "code",
      "metadata": {
        "colab": {
          "base_uri": "https://localhost:8080/"
        },
        "id": "esJ8FVKdyfO-",
        "outputId": "22fc737f-3aa6-4920-d6ba-bc88194b541b"
      },
      "source": [
        "# load data\n",
        "\n",
        "# 'B0006', 'B0007', 'B0018'\n",
        "for battery in ['B0005']:\n",
        "    # load data\n",
        "    file_path = f'/content/drive/MyDrive/NASA-processing-data/{battery}_discharge.json'\n",
        "    with open(file_path, 'r') as file:\n",
        "      json_data = json.load(file)\n",
        "      # print('json load complete..')\n",
        "      # print('total data length: ', len(json_data))\n",
        "      # print(json_data.keys())\n",
        "\n",
        "      cycle = 0\n",
        "      res = {\n",
        "        'cycles': [],\n",
        "        'voltages': [],\n",
        "        'currents': [],\n",
        "        'amb_temps': [],\n",
        "        'bat_temps': []\n",
        "      }\n",
        "\n",
        "      for key in json_data:\n",
        "          cycle += 1\n",
        "          discharge_data = json_data.get(key)\n",
        "          amb_temps = discharge_data.get('amb_temp')\n",
        "          voltage_batteries = discharge_data.get('voltage_battery')\n",
        "          current_batteries = discharge_data.get('current_battery')\n",
        "          battery_temps = discharge_data.get('temp_battery')\n",
        "          times = discharge_data.get('times')\n",
        "          sub_times = get_sub_times(times)\n",
        "          discharge_capacities = get_discharge_capacity(current_batteries)\n",
        "          state_of_healths = get_state_of_heath(discharge_capacities)\n",
        "          \n",
        "          res['cycles'].append(cycle)\n",
        "          res['voltages'].append(np.mean(voltage_batteries))\n",
        "          res['currents'].append(np.mean(current_batteries))\n",
        "          res['amb_temps'].append(amb_temps)\n",
        "          res['bat_temps'].append(np.mean(battery_temps))\n",
        "\n",
        "\n",
        "# state_of_health\n",
        "def get_state_of_heath(discharge_capacities):\n",
        "    rated_capacity = discharge_capacities[0]\n",
        "    state_of_healths = []\n",
        "    for capacity in discharge_capacities:\n",
        "        soh = capacity / rated_capacity\n",
        "        state_of_healths.append(soh)\n",
        "\n",
        "    return state_of_healths\n",
        "\n",
        "# discharge capacity\n",
        "def get_discharge_capacity(currents, times):\n",
        "    discharge_capacities = []\n",
        "    for idx in range(0, len(currents) - 1):\n",
        "      current = currents[idx]\n",
        "      time = times[idx]\n",
        "      capacity = current * time\n",
        "      discharge_capacities.append(capacity)\n",
        "\n",
        "    return discharge_capacities\n",
        "\n",
        "# sub times\n",
        "def get_sub_times(times):\n",
        "    sub_times = []\n",
        "    for i in range(0, len(times) - 1):\n",
        "        t1 = times[i]\n",
        "        t2 = times[i + 1]\n",
        "        sub_times.append(t2 - t1)\n",
        "    return sub_times"
      ],
      "execution_count": 19,
      "outputs": [
        {
          "output_type": "stream",
          "name": "stdout",
          "text": [
            "[3.5298286688693397, 3.5373201277859714, 3.5437367282719, 3.5436661072601456, 3.5423432526672167, 3.5413347346347575, 3.5410250495075215, 3.554133296801584, 3.5529355991467955, 3.5512057319376997, 3.549292319740949, 3.559759220648976, 3.558081969139198, 3.555692244172496, 3.562746818017503, 3.5614521756489204, 3.5603420474985823, 3.5591189041401865, 3.557886771846508, 3.5520375235511907, 3.5525668436897124, 3.556794038327039, 3.5614100044534203, 3.5566107947817986, 3.5586742170266272, 3.564103182686905, 3.559588063594272, 3.556833231052199, 3.5624410850948944, 3.5591407106855666, 3.5573161327793144, 3.561870782772737, 3.5617586337260088, 3.5597307651083123, 3.5575937553540915, 3.5597237883937995, 3.559061771422033, 3.557015527748059, 3.5562481933590964, 3.5532756526091784, 3.556266431640255, 3.5563095420140822, 3.558950851054106, 3.5534418211598053, 3.5510121537420285, 3.551317608213948, 3.549003180550162, 3.5597648340955175, 3.5623454342368555, 3.558336657621618, 3.554013138622869, 3.552376095886298, 3.549618661283733, 3.54938103086703, 3.5472118680418956, 3.5467052098640246, 3.544629653883431, 3.5436291614253204, 3.5444946147995258, 3.5409201846556857, 3.541195668799061, 3.540671044783382, 3.5376048790268775, 3.538422485261741, 3.53928626988912, 3.533690170241391, 3.534367734544495, 3.5312941932103548, 3.5309134771684274, 3.5287226893409893, 3.52625493581969, 3.528684324337005, 3.525556939424901, 3.5226805646793737, 3.524673458789008, 3.5213155754526824, 3.51803386486462, 3.5236841955396794, 3.519146638240668, 3.516233648608237, 3.514773138461639, 3.5132992979150073, 3.514484830704665, 3.5109677353595243, 3.5109358749578012, 3.509393098217416, 3.5066782411556563, 3.5109885623008092, 3.510305462695178, 3.5222215314850214, 3.5163492154331264, 3.5134397623234963, 3.515137522009075, 3.50830390643132, 3.509190808443004, 3.5068097579555353, 3.50609090727422, 3.5037157727265953, 3.5067479961367156, 3.5058813026542324, 3.504168333530808, 3.5030568931470634, 3.4982324882487936, 3.5065859365661325, 3.501457140697961, 3.501658387162809, 3.4966186408455298, 3.4991645719433246, 3.496080777360074, 3.4959014526387993, 3.49758697990267, 3.4956989619989507, 3.492875380810072, 3.49551076423368, 3.4942333590450834, 3.491197414255986, 3.4889094081576237, 3.487376295811431, 3.491994243745711, 3.491585878898649, 3.495576227046425, 3.4938988589692483, 3.49159162968384, 3.4885729299834787, 3.4869021151089825, 3.4855485210036417, 3.4838912547260388, 3.483198941484065, 3.4836274447098883, 3.480172442538601, 3.478452148610975, 3.4785782556105507, 3.4825195584604582, 3.4886823636752826, 3.4858502383832755, 3.478794177297151, 3.4812826020756744, 3.480352041587074, 3.4781127815565127, 3.4765867130506125, 3.4733769291841643, 3.4726366397371127, 3.473439372740961, 3.4754777099091454, 3.4722884821666766, 3.471373665098864, 3.4726160162875095, 3.4738146874457896, 3.4701426486639693, 3.467523652225441, 3.4767525840839255, 3.4758956827369127, 3.475812179626641, 3.4746554404904435, 3.472301781313945, 3.4729305773503527, 3.4696192030612285, 3.470018470757559, 3.470762691935287, 3.468111467035994, 3.4648625780221494, 3.467864133752208, 3.464021404592563, 3.4664623858156745, 3.46850906693551, 3.466806213058136, 3.471070722008039, 3.475472204020004]\n"
          ]
        }
      ]
    }
  ]
}