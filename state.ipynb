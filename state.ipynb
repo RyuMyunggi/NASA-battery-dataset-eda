{
  "nbformat": 4,
  "nbformat_minor": 0,
  "metadata": {
    "colab": {
      "name": "state.ipynb",
      "provenance": [],
      "authorship_tag": "ABX9TyP+jbKZ4A7KZwn78pOaOUAZ",
      "include_colab_link": true
    },
    "kernelspec": {
      "name": "python3",
      "display_name": "Python 3"
    },
    "language_info": {
      "name": "python"
    }
  },
  "cells": [
    {
      "cell_type": "markdown",
      "metadata": {
        "id": "view-in-github",
        "colab_type": "text"
      },
      "source": [
        "<a href=\"https://colab.research.google.com/github/RyuMyunggi/NASA-battery-dataset-eda/blob/main/state.ipynb\" target=\"_parent\"><img src=\"https://colab.research.google.com/assets/colab-badge.svg\" alt=\"Open In Colab\"/></a>"
      ]
    },
    {
      "cell_type": "markdown",
      "source": [
        "## State Design pattern: 상태 디자인 패턴\n"
      ],
      "metadata": {
        "id": "vHNGYumGUns8"
      }
    },
    {
      "cell_type": "markdown",
      "source": [
        "## 상태 디자인 패턴\n",
        "* 행위 패턴의 한 종류\n",
        "* 객체의 역할에 중점을 둠\n",
        "* 객체는 내부 상태에 따라 여러 행위를 캡출화 함. 상태 패턴은 런타임에 객체의 행위를 변경\n",
        "* 유한 상태 머신을 개발 할거나 트랜잭션을 구현할 때 적합"
      ],
      "metadata": {
        "id": "dgagvN3nUnnq"
      }
    },
    {
      "cell_type": "markdown",
      "source": [
        "## 상태 디자인 패턴의 3가지 구성요소\n",
        "* State: 객체의 행위를 캡슐화 하는 인터페이스. 행위는 객체의 상태에 따라 변함\n",
        "* ConcreateState: State 인터페이스를 구현하는 서브클래스. 특정 상태의 객체의 행위를 구현\n",
        "* Context: 사용자가 선택한 인터페이스를 정의. 특정 상태의 객체를 구현한 ConcreateState 서브클래스의 인스턴스를 가지고 있음 "
      ],
      "metadata": {
        "id": "1uk9IVpeVNFZ"
      }
    },
    {
      "cell_type": "code",
      "execution_count": null,
      "metadata": {
        "id": "0GrtHXugUlbB"
      },
      "outputs": [],
      "source": [
        "from abc import ABCMeta\n",
        "from abc import abstractmethod\n",
        "\n",
        "\n",
        "class State(metaclass=ABCMeta):\n",
        "  @abstractmethod\n",
        "  def Handle(self):\n",
        "    pass\n",
        "\n",
        "\n",
        "class ConcreateStateB(State):\n",
        "  def Handle(self):\n",
        "    print('ConcreateStateB')\n",
        "\n",
        "\n",
        "class ConcreateStateA(State):\n",
        "  def Handle(self):\n",
        "    print('ConcreateStateA')\n",
        "\n",
        "\n",
        "class Context(State):\n",
        "  def __init__(self):\n",
        "    self.state = None\n",
        "\n",
        "  def getState(self):\n",
        "    return self.state\n",
        "\n",
        "  def setState(self, state):\n",
        "    self.state = state\n",
        "\n",
        "  def Handle(self):\n",
        "    self.state.Handle\n",
        "\n",
        "\n",
        "context = Context()\n",
        "stateA = ConcreateStateA()\n",
        "stateB = ConcreateStateB()\n",
        "\n",
        "context.setState(stateA)\n",
        "context.Handle()\n"
      ]
    },
    {
      "cell_type": "code",
      "source": [
        "class State(metaclass=ABCMeta):\n",
        "  @abstractmethod\n",
        "  def doThis(self):\n",
        "    pass\n",
        "\n",
        "  \n",
        "class StartState(State):\n",
        "  def doThis(self):\n",
        "    print('TV Swiching ON...')\n",
        "\n",
        "\n",
        "class StopState(State):\n",
        "  def doThis(self):\n",
        "    print('TV Swiching OFF...')\n",
        "\n",
        "\n",
        "class TVContext(State):\n",
        "  def __init__(self):\n",
        "    self.state = None\n",
        "\n",
        "  def getState(self):\n",
        "    return self.state\n",
        "\n",
        "  def setState(self, state):\n",
        "    self.state = state\n",
        "\n",
        "  def doThis(self):\n",
        "    return self.state.doThis()\n",
        "\n",
        "\n",
        "context = TVContext()\n",
        "context.getState()\n",
        "\n",
        "start = StartState()\n",
        "stop = StopState()\n",
        "\n",
        "context.setState(stop)\n",
        "context.doThis()"
      ],
      "metadata": {
        "colab": {
          "base_uri": "https://localhost:8080/"
        },
        "id": "3NHYm7uyYlKf",
        "outputId": "db9efaf3-0eb4-4647-a8b3-01e345706bc1"
      },
      "execution_count": null,
      "outputs": [
        {
          "output_type": "stream",
          "name": "stdout",
          "text": [
            "TV Swiching OFF...\n"
          ]
        }
      ]
    },
    {
      "cell_type": "code",
      "source": [
        "class ComputerState(object):\n",
        "  name = 'state'\n",
        "  allowed = []\n",
        "  \n",
        "  def switch(self, state):\n",
        "    if state.name in self.allowed:\n",
        "      print('Current: ', self, '=> witched to new state', state.name)\n",
        "    else:\n",
        "      print('Current: ', self, '=> switching to', state.name, 'not possible')\n",
        "\n",
        "  \n",
        "  def __str__(self):\n",
        "    return self.name"
      ],
      "metadata": {
        "id": "KP9bRHksZeYj"
      },
      "execution_count": 2,
      "outputs": []
    },
    {
      "cell_type": "code",
      "source": [
        "class Off(ComputerState):\n",
        "  name = 'off'\n",
        "  allowed = ['on']\n",
        "\n",
        "\n",
        "class On(ComputerState):\n",
        "  name = 'on'\n",
        "  allowed = ['off', 'suspend', 'hibernate']\n",
        "\n",
        "\n",
        "class Suspend(ComputerState):\n",
        "  name = 'suspend'\n",
        "  allowed = ['on']\n",
        "\n",
        "\n",
        "class Hibernate(ComputerState):\n",
        "  name = 'hibernate'\n",
        "  allowed = ['on']"
      ],
      "metadata": {
        "id": "yPqXcRb8t2LC"
      },
      "execution_count": 5,
      "outputs": []
    },
    {
      "cell_type": "code",
      "source": [
        ""
      ],
      "metadata": {
        "id": "XiP0_aBOuhEm"
      },
      "execution_count": null,
      "outputs": []
    },
    {
      "cell_type": "code",
      "source": [
        ""
      ],
      "metadata": {
        "id": "UsIvYbq7t5kV"
      },
      "execution_count": null,
      "outputs": []
    }
  ]
}