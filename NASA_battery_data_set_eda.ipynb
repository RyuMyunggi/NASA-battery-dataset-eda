{
  "nbformat": 4,
  "nbformat_minor": 0,
  "metadata": {
    "colab": {
      "name": "NASA_battery_data_set_eda.ipynb",
      "provenance": [],
      "mount_file_id": "1jTClClXlW7R-aEMDBt5VVDJTJBL9-8fB",
      "authorship_tag": "ABX9TyO90GQxSIBNmrGxOitk86tW",
      "include_colab_link": true
    },
    "kernelspec": {
      "name": "python3",
      "display_name": "Python 3"
    },
    "language_info": {
      "name": "python"
    }
  },
  "cells": [
    {
      "cell_type": "markdown",
      "metadata": {
        "id": "view-in-github",
        "colab_type": "text"
      },
      "source": [
        "<a href=\"https://colab.research.google.com/github/RyuMyunggi/NASA_Battery_Data_Set_EDA/blob/main/NASA_battery_data_set_eda.ipynb\" target=\"_parent\"><img src=\"https://colab.research.google.com/assets/colab-badge.svg\" alt=\"Open In Colab\"/></a>"
      ]
    },
    {
      "cell_type": "code",
      "metadata": {
        "id": "Rh8KshXyjNvS"
      },
      "source": [
        "# import \n",
        "\n",
        "import datetime\n",
        "import json\n",
        "import numpy as np\n",
        "import pandas as pd\n",
        "import matplotlib.pyplot as plt\n",
        "import seaborn as sns\n",
        "\n",
        "from scipy.io import loadmat\n",
        "from sklearn.preprocessing import MinMaxScaler\n",
        "from sklearn.metrics import mean_squared_error\n",
        "from sklearn import metrics\n",
        "from os import path\n",
        "from google.colab import drive"
      ],
      "execution_count": 11,
      "outputs": []
    },
    {
      "cell_type": "code",
      "metadata": {
        "colab": {
          "base_uri": "https://localhost:8080/"
        },
        "id": "7DD7b25eqrWl",
        "outputId": "78e99b8d-2c2f-4112-ed89-67f5fd20233d"
      },
      "source": [
        "# eda for nasa data set\n",
        "\n",
        "def eda_for_nasa_data_set(battery):\n",
        "  mat_data = loadmat(f'/content/drive/MyDrive/NASA-data-set/{battery}.mat')\n",
        "  nasa_data = mat_data[battery][0][0][0][0]\n",
        "\n",
        "  print('data type: ', type(nasa_data))\n",
        "  # data type:  <class 'numpy.ndarray'>\n",
        "  print('d type: ', nasa_data.dtype)\n",
        "  # d type: [('type', 'O'), ('ambient_temperature', 'O'), ('time', 'O'), ('data', 'O')]\n",
        "  print('shape:', nasa_data.shape)\n",
        "  # shape: (616,)\n",
        "  print('ndim:', nasa_data.ndim)\n",
        "  # ndim: 1\n",
        "  print('data size: ', nasa_data.size)\n",
        "  # data size:  616\n",
        "  print('memory size', nasa_data.nbytes)\n",
        "  # memory size 19712\n",
        "\n",
        "eda_for_nasa_data_set('B0005')"
      ],
      "execution_count": 23,
      "outputs": [
        {
          "output_type": "stream",
          "name": "stdout",
          "text": [
            "data type:  <class 'numpy.ndarray'>\n",
            "d type:  [('type', 'O'), ('ambient_temperature', 'O'), ('time', 'O'), ('data', 'O')]\n",
            "shape: (616,)\n",
            "ndim: 1\n",
            "data size:  616\n",
            "memory size 19712\n"
          ]
        }
      ]
    },
    {
      "cell_type": "code",
      "metadata": {
        "colab": {
          "base_uri": "https://localhost:8080/"
        },
        "id": "uFfwA8SaIOhp",
        "outputId": "f4ad3516-b11e-429d-d9b2-9dc04e7a50b3"
      },
      "source": [
        "def get_nasa_data_set(battery):\n",
        "    res = {\n",
        "        'total': {},\n",
        "        'charge': {},\n",
        "        'discharge': {},\n",
        "        'impedance': {}\n",
        "    }\n",
        "    mat_data = loadmat(f'/content/{battery}.mat')\n",
        "    mess = mat_data[battery][0][0][0][0]\n",
        "    for i, element in enumerate(mess):\n",
        "        condition = element[0][0] # battery status\n",
        "        data = element[3]\n",
        "\n",
        "        if condition == 'charge':\n",
        "            res['charge'][str(i)] = {}\n",
        "            res['charge'][str(i)]['amb_temp'] = str(element[1][0][0])\n",
        "            res['charge'][str(i)]['date_time'] = get_datetime(element)\n",
        "            res['charge'][str(i)]['voltage_battery'] = data[0][0][0][0].tolist()\n",
        "            res['charge'][str(i)]['current_battery'] = data[0][0][1][0].tolist()\n",
        "            res['charge'][str(i)]['temp_battery'] = data[0][0][2][0].tolist()\n",
        "            res['charge'][str(i)]['current_load'] = data[0][0][3][0].tolist()\n",
        "            res['charge'][str(i)]['voltage_load'] = data[0][0][4][0].tolist()\n",
        "            res['charge'][str(i)]['time'] = data[0][0][5][0].tolist()\n",
        "\n",
        "            res['total'][str(i)] = {}\n",
        "            res['total'][str(i)]['amb_temp'] = str(element[1][0][0])\n",
        "            res['total'][str(i)]['date_time'] = get_datetime(element)\n",
        "            res['total'][str(i)]['voltage_battery'] = data[0][0][0][0].tolist()\n",
        "            res['total'][str(i)]['current_battery'] = data[0][0][1][0].tolist()\n",
        "            res['total'][str(i)]['temp_battery'] = data[0][0][2][0].tolist()\n",
        "            res['total'][str(i)]['current_load'] = data[0][0][3][0].tolist()\n",
        "            res['total'][str(i)]['voltage_load'] = data[0][0][4][0].tolist()\n",
        "            res['total'][str(i)]['time'] = data[0][0][5][0].tolist()\n",
        "\n",
        "        elif condition == 'discharge':\n",
        "            res['discharge'][str(i)] = {}\n",
        "            res['discharge'][str(i)]['amb_temp'] = str(element[1][0][0])\n",
        "            res['discharge'][str(i)]['date_time'] = get_datetime(element)\n",
        "            res['discharge'][str(i)]['voltage_battery'] = data[0][0][0][0].tolist()\n",
        "            res['discharge'][str(i)]['current_battery'] = data[0][0][1][0].tolist()\n",
        "            res['discharge'][str(i)]['temp_battery'] = data[0][0][2][0].tolist()\n",
        "            res['discharge'][str(i)]['current_load'] = data[0][0][3][0].tolist()\n",
        "            res['discharge'][str(i)]['voltage_load'] = data[0][0][4][0].tolist()\n",
        "            res['discharge'][str(i)]['time'] = data[0][0][5][0].tolist()\n",
        "\n",
        "            res['total'][str(i)] = {}\n",
        "            res['total'][str(i)]['amb_temp'] = str(element[1][0][0])\n",
        "            res['total'][str(i)]['date_time'] = get_datetime(element)\n",
        "            res['total'][str(i)]['voltage_battery'] = data[0][0][0][0].tolist()\n",
        "            res['total'][str(i)]['current_battery'] = data[0][0][1][0].tolist()\n",
        "            res['total'][str(i)]['temp_battery'] = data[0][0][2][0].tolist()\n",
        "            res['total'][str(i)]['current_load'] = data[0][0][3][0].tolist()\n",
        "            res['total'][str(i)]['voltage_load'] = data[0][0][4][0].tolist()\n",
        "            res['total'][str(i)]['time'] = data[0][0][5][0].tolist()\n",
        "\n",
        "        else: # impedance\n",
        "            res['impedance'][str(i)] = {}\n",
        "            res['impedance'][str(i)][\"amb_temp\"] = str(element[1][0][0])\n",
        "            res['impedance'][str(i)]['date_time'] = get_datetime(element)\n",
        "            res['impedance'][str(i)][\"amb_temp\"] = str(element[1][0][0])\n",
        "            res['impedance'][str(i)][\"sense_current\"] = {}\n",
        "            res['impedance'][str(i)][\"battery_current\"] = {}\n",
        "            res['impedance'][str(i)][\"current_ratio\"] = {}\n",
        "            res['impedance'][str(i)][\"battery_impedance\"] = {}\n",
        "            res['impedance'][str(i)][\"rectified_impedance\"] = {}\n",
        "            res['impedance'][str(i)][\"sense_current\"][\"real\"] = np.real(data[0][0][0][0]).tolist()\n",
        "            res['impedance'][str(i)][\"sense_current\"][\"imag\"] = np.imag(data[0][0][0][0]).tolist()\n",
        "            res['impedance'][str(i)][\"battery_current\"][\"real\"] = np.real(data[0][0][1][0]).tolist()\n",
        "            res['impedance'][str(i)][\"battery_current\"][\"imag\"] = np.imag(data[0][0][1][0]).tolist()\n",
        "            res['impedance'][str(i)][\"current_ratio\"][\"real\"] = np.real(data[0][0][2][0]).tolist()\n",
        "            res['impedance'][str(i)][\"current_ratio\"][\"imag\"] = np.imag(data[0][0][2][0]).tolist()\n",
        "            res['impedance'][str(i)][\"battery_impedance\"][\"real\"] = np.real(data[0][0][3]).tolist()\n",
        "            res['impedance'][str(i)][\"battery_impedance\"][\"imag\"] = np.imag(data[0][0][3]).tolist()\n",
        "            res['impedance'][str(i)][\"rectified_impedance\"][\"real\"] = np.real(data[0][0][4]).tolist()\n",
        "            res['impedance'][str(i)][\"rectified_impedance\"][\"imag\"] = np.imag(data[0][0][4]).tolist()\n",
        "            res['impedance'][str(i)][\"re\"] = float(data[0][0][5][0][0])\n",
        "            res['impedance'][str(i)][\"rct\"] = float(data[0][0][6][0][0])\n",
        "\n",
        "            res['total'][str(i)] = {}\n",
        "            res['total'][str(i)][\"amb_temp\"] = str(element[1][0][0])\n",
        "            res['total'][str(i)]['date_time'] = get_datetime(element)\n",
        "            res['total'][str(i)][\"amb_temp\"] = str(element[1][0][0])\n",
        "            res['total'][str(i)][\"sense_current\"] = {}\n",
        "            res['total'][str(i)][\"battery_current\"] = {}\n",
        "            res['total'][str(i)][\"current_ratio\"] = {}\n",
        "            res['total'][str(i)][\"battery_impedance\"] = {}\n",
        "            res['total'][str(i)][\"rectified_impedance\"] = {}\n",
        "            res['total'][str(i)][\"sense_current\"][\"real\"] = np.real(data[0][0][0][0]).tolist()\n",
        "            res['total'][str(i)][\"sense_current\"][\"imag\"] = np.imag(data[0][0][0][0]).tolist()\n",
        "            res['total'][str(i)][\"battery_current\"][\"real\"] = np.real(data[0][0][1][0]).tolist()\n",
        "            res['total'][str(i)][\"battery_current\"][\"imag\"] = np.imag(data[0][0][1][0]).tolist()\n",
        "            res['total'][str(i)][\"current_ratio\"][\"real\"] = np.real(data[0][0][2][0]).tolist()\n",
        "            res['total'][str(i)][\"current_ratio\"][\"imag\"] = np.imag(data[0][0][2][0]).tolist()\n",
        "            res['total'][str(i)][\"battery_impedance\"][\"real\"] = np.real(data[0][0][3]).tolist()\n",
        "            res['total'][str(i)][\"battery_impedance\"][\"imag\"] = np.imag(data[0][0][3]).tolist()\n",
        "            res['total'][str(i)][\"rectified_impedance\"][\"real\"] = np.real(data[0][0][4]).tolist()\n",
        "            res['total'][str(i)][\"rectified_impedance\"][\"imag\"] = np.imag(data[0][0][4]).tolist()\n",
        "            res['total'][str(i)][\"re\"] = float(data[0][0][5][0][0])\n",
        "            res['total'][str(i)][\"rct\"] = float(data[0][0][6][0][0])\n",
        "\n",
        "    return res\n",
        "\n",
        "battery = 'B0005'\n",
        "res = get_nasa_data_set(battery)\n",
        "for key in res:\n",
        "  data = res[key]\n",
        "  save_json(data, f'{battery}_{key}')"
      ],
      "execution_count": 22,
      "outputs": [
        {
          "output_type": "stream",
          "name": "stdout",
          "text": [
            "Drive already mounted at /content/drive; to attempt to forcibly remount, call drive.mount(\"/content/drive\", force_remount=True).\n",
            "Drive already mounted at /content/drive; to attempt to forcibly remount, call drive.mount(\"/content/drive\", force_remount=True).\n",
            "Drive already mounted at /content/drive; to attempt to forcibly remount, call drive.mount(\"/content/drive\", force_remount=True).\n",
            "Drive already mounted at /content/drive; to attempt to forcibly remount, call drive.mount(\"/content/drive\", force_remount=True).\n"
          ]
        }
      ]
    },
    {
      "cell_type": "code",
      "metadata": {
        "id": "P4NwqLyzqrPA"
      },
      "source": [
        "# util\n",
        "\n",
        "def get_datetime(element):\n",
        "    year = int(element[2][0][0])\n",
        "    month = int(element[2][0][1])\n",
        "    day = int(element[2][0][2])\n",
        "    hour = int(element[2][0][3])\n",
        "    minute = int(element[2][0][4])\n",
        "    second = int(element[2][0][5])\n",
        "    millisecond = int((second % 1) * 1000)\n",
        "    date_time = datetime.datetime(year, month, day, hour, minute, second, millisecond)\n",
        "\n",
        "    return date_time.strftime(\"%d %b %Y %H:%M:%S\")\n",
        "\n",
        "def save_json(data, title):\n",
        "  drive.mount('/content/drive')\n",
        "  file_path = path.join('./drive/MyDrive/NASA-processing-data', title)\n",
        "  with open(file_path + '.json', 'w') as f:\n",
        "      json.dump(data, f, indent=4)"
      ],
      "execution_count": 20,
      "outputs": []
    }
  ]
}