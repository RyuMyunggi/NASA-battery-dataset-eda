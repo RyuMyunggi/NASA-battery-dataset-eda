{
  "nbformat": 4,
  "nbformat_minor": 0,
  "metadata": {
    "colab": {
      "name": "command.ipynb",
      "provenance": [],
      "authorship_tag": "ABX9TyM+HM51yofHjhOHJM4cv5wp",
      "include_colab_link": true
    },
    "kernelspec": {
      "name": "python3",
      "display_name": "Python 3"
    },
    "language_info": {
      "name": "python"
    }
  },
  "cells": [
    {
      "cell_type": "markdown",
      "metadata": {
        "id": "view-in-github",
        "colab_type": "text"
      },
      "source": [
        "<a href=\"https://colab.research.google.com/github/RyuMyunggi/NASA-battery-dataset-eda/blob/main/command.ipynb\" target=\"_parent\"><img src=\"https://colab.research.google.com/assets/colab-badge.svg\" alt=\"Open In Colab\"/></a>"
      ]
    },
    {
      "cell_type": "markdown",
      "metadata": {
        "id": "Ktw5t-bf4-b7"
      },
      "source": [
        "## 커맨드 패턴: 요청 패턴화"
      ]
    },
    {
      "cell_type": "markdown",
      "metadata": {
        "id": "RpFZkK4z5DUL"
      },
      "source": [
        "## 커맨드 패턴\n",
        "\n",
        "* 행위 패턴에서는 객체의 역할이 중요. 객체는 상호 작용을 통해 더 큰 기능을 구현할 수 있음\n",
        "* 커맨드 패턴은 객체가 특정 기능을 바로 수행하거나 나중에 트리거할 때 필요한 모든 정보를 캡슐화하는 해동 패턴\n",
        "* 캡슐화하는 정보는 다음과 같음\n",
        "  * 메소드 명\n",
        "  * 메소드를 소유하는 객체\n",
        "  * 메소드인자\n",
        "\n",
        "### 커맨드 패턴의 목적\n",
        "* 요청을 객체 속에 캡슐화함\n",
        "* 클라이언트의 다양한 요청을 매개변화함\n",
        "* 요청을 큐에 저장\n",
        "* 객체지향 콜백을 지향\n",
        "\n",
        "### 커맨드 패턴이 적합한 상황\n",
        "* 수행할 명령에 따라 객체를 변수화 할 때\n",
        "* 요청을 큐에 저장하고 각기 다른 시점에 수행해야 하는 경우\n",
        "* 작은 단위의 연산을 기반으로 하는상위 연산을 만들 때"
      ]
    },
    {
      "cell_type": "markdown",
      "metadata": {
        "id": "t1upRQUH5lsg"
      },
      "source": [
        "## 커맨드 패턴 구성요소\n",
        "\n",
        "### Command\n",
        "* Command 객체는 Reciver 객체에 대해 알고 있으며 Reciver 객체의 함수를 호출\n",
        "* Reciver 함수의 인자는 Command 객체에 저장돼 있음\n",
        "* Invoker는 명령을 수행\n",
        "* Client는 Commnad 객체를 생성하고 Reciver를 정함\n",
        "\n"
      ]
    },
    {
      "cell_type": "code",
      "metadata": {
        "colab": {
          "base_uri": "https://localhost:8080/"
        },
        "id": "SFHDqyq047M1",
        "outputId": "2232cb28-441f-4b91-faee-73231e04e505"
      },
      "source": [
        "class Wizard(object):\n",
        "    def __init__(self, src, rootdir):\n",
        "        self.choices = []\n",
        "        self.rootdir = rootdir\n",
        "        self.src = src\n",
        "\n",
        "    def preferences(self, command):\n",
        "        self.choices.append(command)\n",
        "\n",
        "    def excute(self):\n",
        "        for choice in self.choices:\n",
        "            print(choice)\n",
        "            if list(choice.values())[0]:\n",
        "                print('Copying binaries --', self.src, 'to', self.rootdir)\n",
        "            else:\n",
        "                print('No Operation')\n",
        "\n",
        "wizard = Wizard('python3.5.gzip', '/usr/bin/')\n",
        "wizard.preferences({'python': True})\n",
        "wizard.preferences({'java': False})\n",
        "wizard.excute()"
      ],
      "execution_count": 6,
      "outputs": [
        {
          "output_type": "stream",
          "name": "stdout",
          "text": [
            "{'python': True}\n",
            "Copying binaries -- python3.5.gzip to /usr/bin/\n",
            "{'java': False}\n",
            "No Operation\n"
          ]
        }
      ]
    }
  ]
}